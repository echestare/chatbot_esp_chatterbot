{
  "nbformat": 4,
  "nbformat_minor": 0,
  "metadata": {
    "colab": {
      "name": "Chatbot_esp_chatterbot.ipynb",
      "provenance": [],
      "collapsed_sections": []
    },
    "kernelspec": {
      "name": "python3",
      "display_name": "Python 3"
    },
    "language_info": {
      "name": "python"
    }
  },
  "cells": [
    {
      "cell_type": "markdown",
      "source": [
        "# ChatBot super básico"
      ],
      "metadata": {
        "id": "LOtAE5E7ya_4"
      }
    },
    {
      "cell_type": "code",
      "source": [
        "!pip install chatterbot\n",
        "!pip install chatterbot_corpus\n",
        "\n",
        "import nltk\n",
        "nltk.download('stopwords')\n",
        "nltk.download('punkt')\n",
        "nltk.download('averaged_perceptron_tagger')\n",
        "nltk.download('wordnet')"
      ],
      "metadata": {
        "colab": {
          "base_uri": "https://localhost:8080/"
        },
        "id": "ZZOHYb9w_0M-",
        "outputId": "13071d3c-f2cc-4141-b573-534834d9ca48"
      },
      "execution_count": 1,
      "outputs": [
        {
          "output_type": "stream",
          "name": "stdout",
          "text": [
            "Requirement already satisfied: chatterbot in /usr/local/lib/python3.7/dist-packages (1.0.8)\n",
            "Requirement already satisfied: sqlalchemy<1.4,>=1.3 in /usr/local/lib/python3.7/dist-packages (from chatterbot) (1.3.24)\n",
            "Requirement already satisfied: python-dateutil<2.9,>=2.8 in /usr/local/lib/python3.7/dist-packages (from chatterbot) (2.8.2)\n",
            "Requirement already satisfied: pytz in /usr/local/lib/python3.7/dist-packages (from chatterbot) (2018.9)\n",
            "Requirement already satisfied: mathparse<0.2,>=0.1 in /usr/local/lib/python3.7/dist-packages (from chatterbot) (0.1.2)\n",
            "Requirement already satisfied: six>=1.5 in /usr/local/lib/python3.7/dist-packages (from python-dateutil<2.9,>=2.8->chatterbot) (1.15.0)\n",
            "Requirement already satisfied: chatterbot_corpus in /usr/local/lib/python3.7/dist-packages (1.2.0)\n",
            "Requirement already satisfied: PyYAML<4.0,>=3.12 in /usr/local/lib/python3.7/dist-packages (from chatterbot_corpus) (3.13)\n",
            "[nltk_data] Downloading package stopwords to /root/nltk_data...\n",
            "[nltk_data]   Package stopwords is already up-to-date!\n",
            "[nltk_data] Downloading package punkt to /root/nltk_data...\n",
            "[nltk_data]   Package punkt is already up-to-date!\n",
            "[nltk_data] Downloading package averaged_perceptron_tagger to\n",
            "[nltk_data]     /root/nltk_data...\n",
            "[nltk_data]   Package averaged_perceptron_tagger is already up-to-\n",
            "[nltk_data]       date!\n",
            "[nltk_data] Downloading package wordnet to /root/nltk_data...\n",
            "[nltk_data]   Package wordnet is already up-to-date!\n"
          ]
        },
        {
          "output_type": "execute_result",
          "data": {
            "text/plain": [
              "True"
            ]
          },
          "metadata": {},
          "execution_count": 1
        }
      ]
    },
    {
      "cell_type": "code",
      "source": [
        "from chatterbot import ChatBot\n",
        "from chatterbot.trainers import ChatterBotCorpusTrainer\n",
        "from spacy.cli import download\n",
        "from chatterbot.comparisons import LevenshteinDistance\n",
        "\n",
        "\n",
        "download('es_core_news_sm') # en_core_web_sm\n",
        "class ENGSM:\n",
        "  ISO_639_1 = 'es_core_news_sm'\n",
        "\n",
        "\n",
        "\n",
        "chatbot = ChatBot(\n",
        "    'myBotcito',\n",
        "    tagger_language = ENGSM,\n",
        "    storage_adapter='chatterbot.storage.SQLStorageAdapter',\n",
        "    database='./database.sqlite5', #fichero de la base de datos (si no existe se creará automáticamente)\n",
        "\n",
        "\n",
        "    logic_adapters=[ \n",
        "        {\n",
        "            \"import_path\": \"chatterbot.logic.BestMatch\",\n",
        "            \"statement_comparison_function\": \"chatterbot.comparisons.levenshtein_distance\",\n",
        "            # \"response_selection_method\": \"chatterbot.response_selection.get_most_frequent_response\"\n",
        "        },\n",
        "        'chatterbot.logic.MathematicalEvaluation', #Este es un logic_adapter que responde preguntas sobre matemáticas en inglés\n",
        "        'chatterbot.logic.TimeLogicAdapter' #Este es un logic_adapter que responde preguntas sobre la hora actual en inglés\n",
        "    ],\n",
        "    preprocessors=['chatterbot.preprocessors.clean_whitespace'],\n",
        "    statement_comparison_function=LevenshteinDistance\n",
        "\n",
        ")\n",
        "\n",
        "\n",
        "\n",
        "trainer = ChatterBotCorpusTrainer(chatbot)\n",
        "trainer.train(\n",
        "    # \"/usr/local/lib/python3.7/dist-packages/chatterbot_corpus/data/english\"\n",
        "    \"/usr/local/lib/python3.7/dist-packages/chatterbot_corpus/data/spanish\"\n",
        "    # \"chatterbot.corpus.spanish\"\n",
        ")\n",
        "\n",
        "# Usar un txt propio para entrenar el modelo\n",
        "trainer.train(\"./PreguntasYRespuestas.yml\")\n",
        "\n",
        "# # Exportar los datos\n",
        "# trainer.export_for_training('/my_export.json')\n",
        "\n"
      ],
      "metadata": {
        "colab": {
          "base_uri": "https://localhost:8080/"
        },
        "id": "9MageD_P5Mg9",
        "outputId": "5aa4e7dd-04c5-41e8-cefb-ccc49bfe8a07"
      },
      "execution_count": 2,
      "outputs": [
        {
          "output_type": "stream",
          "name": "stdout",
          "text": [
            "\u001b[38;5;2m✔ Download and installation successful\u001b[0m\n",
            "You can now load the model via spacy.load('es_core_news_sm')\n",
            "Training conversations.yml: [####################] 100%\n",
            "Training greetings.yml: [####################] 100%\n",
            "Training trivia.yml: [####################] 100%\n",
            "Training PreguntasYRespuestas.yml: [####################] 100%\n"
          ]
        }
      ]
    },
    {
      "cell_type": "code",
      "source": [
        "# chatbot.get_response('')\n",
        "\n",
        "print('Mi nombre es Botcito ¿En qué puedo ayudarte?')\n",
        "\n",
        "while True:\n",
        "  message = input('\\nTu mensaje: ')\n",
        "  if message.lower() == 'chau':\n",
        "    print ('\\nBotcito: Buena suerte.')\n",
        "    break\n",
        "  response = chatbot.get_response(message)\n",
        "  print('\\nBotcito: ' + str(response))\n"
      ],
      "metadata": {
        "colab": {
          "base_uri": "https://localhost:8080/"
        },
        "id": "3wMu2Uqz8YSb",
        "outputId": "0faed7a5-a38f-4d34-bd6a-f4bc32c8ff65"
      },
      "execution_count": 4,
      "outputs": [
        {
          "output_type": "stream",
          "name": "stdout",
          "text": [
            "Mi nombre es Botcito ¿En qué puedo ayudarte?\n",
            "\n",
            "Tu mensaje: Hola\n",
            "\n",
            "Botcito: Hola\n",
            "\n",
            "Tu mensaje: ¿Cómo estás?\n",
            "\n",
            "Botcito: Estoy bien.\n",
            "\n",
            "Tu mensaje: ¿Sabes matemáticas?\n",
            "\n",
            "Botcito: Un poco ¿Me quieres probar?\n",
            "\n",
            "Tu mensaje: 2022 - 2000\n",
            "\n",
            "Botcito: 2022 - 2000 = 22\n",
            "\n",
            "Tu mensaje: 12 * 4\n",
            "\n",
            "Botcito: 12 * 4 = 48\n",
            "\n",
            "Tu mensaje: 2 ^ 10\n",
            "\n",
            "Botcito: 2 ^ 10 = 1024\n",
            "\n",
            "Tu mensaje: ¡Eres muy inteligente!\n",
            "\n",
            "Botcito: ¡Seguramente tu también!\n",
            "\n",
            "Tu mensaje: ¿sabes cuál es el nombre de la galacia principal más cercana a la vía láctea?\n",
            "\n",
            "Botcito: Andrómeda.\n",
            "\n",
            "Tu mensaje: ¿sabes inglés?\n",
            "\n",
            "Botcito: Un poco. Por ejemplo, puedo decir la hora.\n",
            "\n",
            "Tu mensaje: what time is it?\n",
            "\n",
            "Botcito: The current time is 08:48 PM\n",
            "\n",
            "Tu mensaje: Chau\n",
            "\n",
            "Botcito: Buena suerte.\n"
          ]
        }
      ]
    },
    {
      "cell_type": "markdown",
      "source": [
        "# DEPRECATED LIBRARY:\n",
        "## Chatterbot 7"
      ],
      "metadata": {
        "id": "UjeZJzt0Ee2j"
      }
    },
    {
      "cell_type": "code",
      "source": [
        "\n",
        "# from chatterbot import ChatBot\n",
        "# from chatterbot.trainers import ListTrainer\n",
        "# from chatterbot.comparisons import JaccardSimilarity\n",
        "# from chatterbot.comparisons import LevenshteinDistance\n",
        "# from chatterbot.conversation import Statement\n",
        "\n",
        "\n",
        "# # from spacy.cli import download\n",
        "# # download('es_core_news_sm') #en_cor_web_sm\n",
        "# # class ENGSM:\n",
        "# #   iso_639_1 = 'es_core_news_sm'\n",
        "\n",
        "\n",
        "# #Descomentar estas lineas sólo la primera vez que se ejecute el algoritmo para instalar los componentes que falten.\n",
        "# #Luego se pueden volver a comentar\n",
        "\n",
        "# import nltk\n",
        "# nltk.download('stopwords')\n",
        "# nltk.download('punkt')\n",
        "# nltk.download('averaged_perceptron_tagger')\n",
        "# nltk.download('wordnet')\n",
        "\n",
        "# #Creo una instancia de la clase ChatBot\n",
        "# chatbot = ChatBot(\n",
        "#     'Xpikuos',\n",
        "#     storage_adapter='chatterbot.storage.SQLStorageAdapter',\n",
        "#     database='./database.sqlite5', #fichero de la base de datos (si no existe se creará automáticamente)\n",
        "    \n",
        "#     input_adapter='chatterbot.input.TerminalAdapter', #indica que la pregunta se toma del terminal\n",
        "#     output_adapter='chatterbot.output.TerminalAdapter', #indeica que la respuesta se saca por el terminal\n",
        "    \n",
        "#     trainer='chatterbot.trainers.ListTrainer',\n",
        "    \n",
        "#     #Un Logic_adapter es una clase que devuelve una respuesta ante una pregunta dada. \n",
        "#     #Se pueden usar tantos logic_adapters como se quiera\n",
        "#     logic_adapters=[ \n",
        "#         #'chatterbot.logic.MathematicalEvaluation', #Este es un logic_adapter que responde preguntas sobre matemáticas en inglés\n",
        "#         #'chatterbot.logic.TimeLogicAdapter', #Este es un logic_adapter que responde preguntas sobre la hora actual en inglés\n",
        "        \n",
        "#         {\n",
        "#             \"import_path\": \"chatterbot.logic.BestMatch\",\n",
        "#             \"statement_comparison_function\": \"chatterbot.comparisons.levenshtein_distance\",\n",
        "#             \"response_selection_method\": \"chatterbot.response_selection.get_most_frequent_response\"\n",
        "#         }\n",
        "#         #{\n",
        "#         #    'import_path': 'chatterbot.logic.LowConfidenceAdapter',\n",
        "#         #    'threshold': 0.51,\n",
        "#         #    'default_response': 'Disculpa, no te he entendido bien. ¿Puedes ser más específico?.'\n",
        "#         #},\n",
        "#         #{\n",
        "#         #    'import_path': 'chatterbot.logic.SpecificResponseAdapter',\n",
        "#         #    'input_text': 'Eso es todo',\n",
        "#         #    'output_text': 'Perfecto. Hasta la próxima'\n",
        "#         #},\n",
        "#     ],\n",
        "    \n",
        "#         preprocessors=[\n",
        "#         'chatterbot.preprocessors.clean_whitespace'\n",
        "#     ],\n",
        "    \n",
        "#     #read_only=True,\n",
        "# statement_comparison_function=LevenshteinDistance\n",
        "\n",
        "# )\n",
        "\n",
        "# # DEFAULT_SESSION_ID = chatbot.default_session\n",
        "# DEFAULT_SESSION_ID = chatbot.generate_response\n"
      ],
      "metadata": {
        "id": "6jouInW3EXyz"
      },
      "execution_count": null,
      "outputs": []
    },
    {
      "cell_type": "code",
      "source": [
        "# trainer = ListTrainer(chatbot)\n",
        "# trainer.train('chatterbot.corpus.spanish')\n",
        "# # trainer.train(\"./PreguntasYRespuestas.yml\")\n",
        "# trainer.train([\n",
        "#    '¿Cómo estás?',\n",
        "#    'Bien.',\n",
        "#    'Me alegro.',\n",
        "#    'Gracias.',\n",
        "#    'De nada.',\n",
        "#    '¿Y tú?'\n",
        "# ])\n",
        "\n",
        "# #Elegir la forma de medir la similitud entre dos frases\n",
        "# # levenshtein_distance = LevenshteinDistance()\n",
        "# #synset_distance = SynsetDistance()\n",
        "# #sentiment_comparison = SentimentComparison()\n",
        "# #jaccard_similarity = JaccardSimilarity()\n",
        "\n",
        "# disparate=Statement('se te ha ido la pinza')#convertimos una frase en un tipo statement\n",
        "# entradaDelUsuario=\"\" #variable que contendrá lo que haya escrito el usuario\n",
        "# entradaDelUsuarioAnterior=\"\"\n",
        "\n",
        "# while entradaDelUsuario!=\"adios\":\n",
        "#     # entradaDelUsuario = chatbot.input.process_input_statement() #leemos la entrada del usuario\n",
        "#     entradaDelUsuario = input('Tu mensaje: ')\n",
        "#     # statement, respuesta = chatbot.generate_response(entradaDelUsuario, DEFAULT_SESSION_ID)\n",
        "#     respuesta = chatbot.get_response(entradaDelUsuario)\n",
        "\n",
        "#     # if levenshtein_distance.compare(entradaDelUsuario,disparate)>0.51:\n",
        "#     #     print('¿Qué debería haber dicho?')\n",
        "#     #     entradaDelUsuarioCorreccion = chatbot.input.process_input_statement()\n",
        "#     #     chatbot.train([entradaDelUsuarioAnterior.text,entradaDelUsuarioCorreccion.text])\n",
        "#     #     print(\"He aprendiendo que cuando digas {} debo responder {}\".format(entradaDelUsuarioAnterior.text,entradaDelUsuarioCorreccion.text))\n",
        "    \n",
        "#     entradaDelUsuarioAnterior=entradaDelUsuario\n",
        "#     #print(statement) #statement contiene el mismo valor que entradaDelUsuario\n",
        "#     print(\"\\n%s\\n\\n\" % respuesta)"
      ],
      "metadata": {
        "id": "6H2iAbfJEoeP"
      },
      "execution_count": null,
      "outputs": []
    }
  ]
}